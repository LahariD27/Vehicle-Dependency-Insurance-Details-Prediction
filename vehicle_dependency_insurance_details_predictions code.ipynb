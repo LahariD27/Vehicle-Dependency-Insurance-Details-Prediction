{
  "nbformat": 4,
  "nbformat_minor": 0,
  "metadata": {
    "colab": {
      "provenance": []
    },
    "kernelspec": {
      "name": "python3",
      "display_name": "Python 3"
    },
    "language_info": {
      "name": "python"
    }
  },
  "cells": [
    {
      "cell_type": "code",
      "execution_count": 1,
      "metadata": {
        "id": "3eTtp2I2DJMZ"
      },
      "outputs": [],
      "source": [
        "# Importing necessary libraries\n",
        "import numpy as np\n",
        "import pandas as pd\n",
        "import matplotlib.pyplot as plt\n",
        "from sklearn.model_selection import train_test_split\n",
        "from sklearn.preprocessing import StandardScaler\n",
        "from sklearn.linear_model import LogisticRegression\n",
        "from sklearn.tree import DecisionTreeClassifier\n",
        "from sklearn.ensemble import RandomForestClassifier\n",
        "from sklearn.neighbors import KNeighborsClassifier\n",
        "from sklearn.metrics import accuracy_score\n",
        "from statsmodels.tsa.arima.model import ARIMA\n",
        "from sklearn.metrics import mean_squared_error\n",
        "from keras.models import Sequential\n",
        "from keras.layers import Dense, LSTM\n",
        "from tensorflow import keras\n",
        "from statsmodels.tsa.arima.model import ARIMA\n",
        "from sklearn.metrics import mean_squared_error"
      ]
    },
    {
      "cell_type": "code",
      "source": [
        "# Load dataset (replace 'data.csv' with your dataset)\n",
        "data = pd.read_csv('Vehicle_Insurance_Dataset.csv')"
      ],
      "metadata": {
        "id": "fnVQQajTDOK6"
      },
      "execution_count": 2,
      "outputs": []
    },
    {
      "cell_type": "code",
      "source": [
        "print(data.head)\n",
        "print(data.tail)\n",
        "print(data.describe)"
      ],
      "metadata": {
        "colab": {
          "base_uri": "https://localhost:8080/"
        },
        "id": "SZJg6O3V_z7w",
        "outputId": "1d6f8444-b34e-45a5-f11e-412bc57c5ec3"
      },
      "execution_count": 3,
      "outputs": [
        {
          "output_type": "stream",
          "name": "stdout",
          "text": [
            "<bound method NDFrame.head of       Vehicle_policy_id  Vehicle_policy_tenure  Vehicle_period  \\\n",
            "0               ID58593               0.341732            0.00   \n",
            "1               ID58594               0.307241            0.13   \n",
            "2               ID58595               0.327924            0.12   \n",
            "3               ID58596               0.782654            0.01   \n",
            "4               ID58597               1.233404            0.02   \n",
            "...                 ...                    ...             ...   \n",
            "39058           ID97651               0.047982            0.15   \n",
            "39059           ID97652               1.224838            0.05   \n",
            "39060           ID97653               0.520287            0.12   \n",
            "39061           ID97654               1.172391            0.08   \n",
            "39062           ID97655               0.094030            0.12   \n",
            "\n",
            "       period_of_vehicle_policyholder Vehicle_area_cluster  \\\n",
            "0                            0.586538                   C3   \n",
            "1                            0.442308                   C8   \n",
            "2                            0.451923                   C8   \n",
            "3                            0.461538                   C5   \n",
            "4                            0.634615                   C5   \n",
            "...                               ...                  ...   \n",
            "39058                        0.740385                   C2   \n",
            "39059                        0.509615                   C8   \n",
            "39060                        0.355769                   C6   \n",
            "39061                        0.644231                   C5   \n",
            "39062                        0.307692                   C8   \n",
            "\n",
            "       population_density  Vehicle_make Vehicle_segment Vehicle_model  \\\n",
            "0                    4076             1               A            M1   \n",
            "1                    8794             1              B2            M6   \n",
            "2                    8794             2               A            M3   \n",
            "3                   34738             1               A            M1   \n",
            "4                   34738             1               A            M1   \n",
            "...                   ...           ...             ...           ...   \n",
            "39058               27003             1              B2            M6   \n",
            "39059                8794             3              C2            M4   \n",
            "39060               13051             1              B2            M7   \n",
            "39061               34738             1              C1            M2   \n",
            "39062                8794             3              C2            M4   \n",
            "\n",
            "      Vehicle_fuel_type  ... is_rear_window_defogger is_brake_assist  \\\n",
            "0                   CNG  ...                      No              No   \n",
            "1                Petrol  ...                      No             Yes   \n",
            "2                Petrol  ...                      No              No   \n",
            "3                   CNG  ...                      No              No   \n",
            "4                   CNG  ...                      No              No   \n",
            "...                 ...  ...                     ...             ...   \n",
            "39058            Petrol  ...                      No             Yes   \n",
            "39059            Diesel  ...                     Yes             Yes   \n",
            "39060            Petrol  ...                     Yes             Yes   \n",
            "39061            Petrol  ...                     Yes             Yes   \n",
            "39062            Diesel  ...                     Yes             Yes   \n",
            "\n",
            "      is_power_door_locks  is_central_locking is_power_steering  \\\n",
            "0                      No                  No               Yes   \n",
            "1                     Yes                 Yes               Yes   \n",
            "2                     Yes                 Yes               Yes   \n",
            "3                      No                  No               Yes   \n",
            "4                      No                  No               Yes   \n",
            "...                   ...                 ...               ...   \n",
            "39058                 Yes                 Yes               Yes   \n",
            "39059                 Yes                 Yes               Yes   \n",
            "39060                 Yes                 Yes               Yes   \n",
            "39061                 Yes                 Yes               Yes   \n",
            "39062                 Yes                 Yes               Yes   \n",
            "\n",
            "      is_driver_seat_height_adjustable is_day_night_rear_view_mirror is_ecw  \\\n",
            "0                                   No                            No     No   \n",
            "1                                  Yes                           Yes    Yes   \n",
            "2                                   No                           Yes    Yes   \n",
            "3                                   No                            No     No   \n",
            "4                                   No                            No     No   \n",
            "...                                ...                           ...    ...   \n",
            "39058                              Yes                           Yes    Yes   \n",
            "39059                              Yes                            No    Yes   \n",
            "39060                              Yes                           Yes    Yes   \n",
            "39061                              Yes                           Yes    Yes   \n",
            "39062                              Yes                            No    Yes   \n",
            "\n",
            "      is_speed_alert ncap_rating  \n",
            "0                Yes           0  \n",
            "1                Yes           2  \n",
            "2                Yes           2  \n",
            "3                Yes           0  \n",
            "4                Yes           0  \n",
            "...              ...         ...  \n",
            "39058            Yes           2  \n",
            "39059            Yes           3  \n",
            "39060            Yes           0  \n",
            "39061            Yes           2  \n",
            "39062            Yes           3  \n",
            "\n",
            "[39063 rows x 43 columns]>\n",
            "<bound method NDFrame.tail of       Vehicle_policy_id  Vehicle_policy_tenure  Vehicle_period  \\\n",
            "0               ID58593               0.341732            0.00   \n",
            "1               ID58594               0.307241            0.13   \n",
            "2               ID58595               0.327924            0.12   \n",
            "3               ID58596               0.782654            0.01   \n",
            "4               ID58597               1.233404            0.02   \n",
            "...                 ...                    ...             ...   \n",
            "39058           ID97651               0.047982            0.15   \n",
            "39059           ID97652               1.224838            0.05   \n",
            "39060           ID97653               0.520287            0.12   \n",
            "39061           ID97654               1.172391            0.08   \n",
            "39062           ID97655               0.094030            0.12   \n",
            "\n",
            "       period_of_vehicle_policyholder Vehicle_area_cluster  \\\n",
            "0                            0.586538                   C3   \n",
            "1                            0.442308                   C8   \n",
            "2                            0.451923                   C8   \n",
            "3                            0.461538                   C5   \n",
            "4                            0.634615                   C5   \n",
            "...                               ...                  ...   \n",
            "39058                        0.740385                   C2   \n",
            "39059                        0.509615                   C8   \n",
            "39060                        0.355769                   C6   \n",
            "39061                        0.644231                   C5   \n",
            "39062                        0.307692                   C8   \n",
            "\n",
            "       population_density  Vehicle_make Vehicle_segment Vehicle_model  \\\n",
            "0                    4076             1               A            M1   \n",
            "1                    8794             1              B2            M6   \n",
            "2                    8794             2               A            M3   \n",
            "3                   34738             1               A            M1   \n",
            "4                   34738             1               A            M1   \n",
            "...                   ...           ...             ...           ...   \n",
            "39058               27003             1              B2            M6   \n",
            "39059                8794             3              C2            M4   \n",
            "39060               13051             1              B2            M7   \n",
            "39061               34738             1              C1            M2   \n",
            "39062                8794             3              C2            M4   \n",
            "\n",
            "      Vehicle_fuel_type  ... is_rear_window_defogger is_brake_assist  \\\n",
            "0                   CNG  ...                      No              No   \n",
            "1                Petrol  ...                      No             Yes   \n",
            "2                Petrol  ...                      No              No   \n",
            "3                   CNG  ...                      No              No   \n",
            "4                   CNG  ...                      No              No   \n",
            "...                 ...  ...                     ...             ...   \n",
            "39058            Petrol  ...                      No             Yes   \n",
            "39059            Diesel  ...                     Yes             Yes   \n",
            "39060            Petrol  ...                     Yes             Yes   \n",
            "39061            Petrol  ...                     Yes             Yes   \n",
            "39062            Diesel  ...                     Yes             Yes   \n",
            "\n",
            "      is_power_door_locks  is_central_locking is_power_steering  \\\n",
            "0                      No                  No               Yes   \n",
            "1                     Yes                 Yes               Yes   \n",
            "2                     Yes                 Yes               Yes   \n",
            "3                      No                  No               Yes   \n",
            "4                      No                  No               Yes   \n",
            "...                   ...                 ...               ...   \n",
            "39058                 Yes                 Yes               Yes   \n",
            "39059                 Yes                 Yes               Yes   \n",
            "39060                 Yes                 Yes               Yes   \n",
            "39061                 Yes                 Yes               Yes   \n",
            "39062                 Yes                 Yes               Yes   \n",
            "\n",
            "      is_driver_seat_height_adjustable is_day_night_rear_view_mirror is_ecw  \\\n",
            "0                                   No                            No     No   \n",
            "1                                  Yes                           Yes    Yes   \n",
            "2                                   No                           Yes    Yes   \n",
            "3                                   No                            No     No   \n",
            "4                                   No                            No     No   \n",
            "...                                ...                           ...    ...   \n",
            "39058                              Yes                           Yes    Yes   \n",
            "39059                              Yes                            No    Yes   \n",
            "39060                              Yes                           Yes    Yes   \n",
            "39061                              Yes                           Yes    Yes   \n",
            "39062                              Yes                            No    Yes   \n",
            "\n",
            "      is_speed_alert ncap_rating  \n",
            "0                Yes           0  \n",
            "1                Yes           2  \n",
            "2                Yes           2  \n",
            "3                Yes           0  \n",
            "4                Yes           0  \n",
            "...              ...         ...  \n",
            "39058            Yes           2  \n",
            "39059            Yes           3  \n",
            "39060            Yes           0  \n",
            "39061            Yes           2  \n",
            "39062            Yes           3  \n",
            "\n",
            "[39063 rows x 43 columns]>\n",
            "<bound method NDFrame.describe of       Vehicle_policy_id  Vehicle_policy_tenure  Vehicle_period  \\\n",
            "0               ID58593               0.341732            0.00   \n",
            "1               ID58594               0.307241            0.13   \n",
            "2               ID58595               0.327924            0.12   \n",
            "3               ID58596               0.782654            0.01   \n",
            "4               ID58597               1.233404            0.02   \n",
            "...                 ...                    ...             ...   \n",
            "39058           ID97651               0.047982            0.15   \n",
            "39059           ID97652               1.224838            0.05   \n",
            "39060           ID97653               0.520287            0.12   \n",
            "39061           ID97654               1.172391            0.08   \n",
            "39062           ID97655               0.094030            0.12   \n",
            "\n",
            "       period_of_vehicle_policyholder Vehicle_area_cluster  \\\n",
            "0                            0.586538                   C3   \n",
            "1                            0.442308                   C8   \n",
            "2                            0.451923                   C8   \n",
            "3                            0.461538                   C5   \n",
            "4                            0.634615                   C5   \n",
            "...                               ...                  ...   \n",
            "39058                        0.740385                   C2   \n",
            "39059                        0.509615                   C8   \n",
            "39060                        0.355769                   C6   \n",
            "39061                        0.644231                   C5   \n",
            "39062                        0.307692                   C8   \n",
            "\n",
            "       population_density  Vehicle_make Vehicle_segment Vehicle_model  \\\n",
            "0                    4076             1               A            M1   \n",
            "1                    8794             1              B2            M6   \n",
            "2                    8794             2               A            M3   \n",
            "3                   34738             1               A            M1   \n",
            "4                   34738             1               A            M1   \n",
            "...                   ...           ...             ...           ...   \n",
            "39058               27003             1              B2            M6   \n",
            "39059                8794             3              C2            M4   \n",
            "39060               13051             1              B2            M7   \n",
            "39061               34738             1              C1            M2   \n",
            "39062                8794             3              C2            M4   \n",
            "\n",
            "      Vehicle_fuel_type  ... is_rear_window_defogger is_brake_assist  \\\n",
            "0                   CNG  ...                      No              No   \n",
            "1                Petrol  ...                      No             Yes   \n",
            "2                Petrol  ...                      No              No   \n",
            "3                   CNG  ...                      No              No   \n",
            "4                   CNG  ...                      No              No   \n",
            "...                 ...  ...                     ...             ...   \n",
            "39058            Petrol  ...                      No             Yes   \n",
            "39059            Diesel  ...                     Yes             Yes   \n",
            "39060            Petrol  ...                     Yes             Yes   \n",
            "39061            Petrol  ...                     Yes             Yes   \n",
            "39062            Diesel  ...                     Yes             Yes   \n",
            "\n",
            "      is_power_door_locks  is_central_locking is_power_steering  \\\n",
            "0                      No                  No               Yes   \n",
            "1                     Yes                 Yes               Yes   \n",
            "2                     Yes                 Yes               Yes   \n",
            "3                      No                  No               Yes   \n",
            "4                      No                  No               Yes   \n",
            "...                   ...                 ...               ...   \n",
            "39058                 Yes                 Yes               Yes   \n",
            "39059                 Yes                 Yes               Yes   \n",
            "39060                 Yes                 Yes               Yes   \n",
            "39061                 Yes                 Yes               Yes   \n",
            "39062                 Yes                 Yes               Yes   \n",
            "\n",
            "      is_driver_seat_height_adjustable is_day_night_rear_view_mirror is_ecw  \\\n",
            "0                                   No                            No     No   \n",
            "1                                  Yes                           Yes    Yes   \n",
            "2                                   No                           Yes    Yes   \n",
            "3                                   No                            No     No   \n",
            "4                                   No                            No     No   \n",
            "...                                ...                           ...    ...   \n",
            "39058                              Yes                           Yes    Yes   \n",
            "39059                              Yes                            No    Yes   \n",
            "39060                              Yes                           Yes    Yes   \n",
            "39061                              Yes                           Yes    Yes   \n",
            "39062                              Yes                            No    Yes   \n",
            "\n",
            "      is_speed_alert ncap_rating  \n",
            "0                Yes           0  \n",
            "1                Yes           2  \n",
            "2                Yes           2  \n",
            "3                Yes           0  \n",
            "4                Yes           0  \n",
            "...              ...         ...  \n",
            "39058            Yes           2  \n",
            "39059            Yes           3  \n",
            "39060            Yes           0  \n",
            "39061            Yes           2  \n",
            "39062            Yes           3  \n",
            "\n",
            "[39063 rows x 43 columns]>\n"
          ]
        }
      ]
    },
    {
      "cell_type": "code",
      "source": [
        "data['Target'] = (data['Vehicle_policy_tenure'].shift(-1) > data['Vehicle_policy_tenure']).astype(int)"
      ],
      "metadata": {
        "id": "uBzxGdkXAAG1"
      },
      "execution_count": 8,
      "outputs": []
    },
    {
      "cell_type": "code",
      "source": [
        "# Drop rows with NaN values\n",
        "data.dropna(inplace=True)"
      ],
      "metadata": {
        "id": "njkkFDYxACox"
      },
      "execution_count": 9,
      "outputs": []
    },
    {
      "cell_type": "code",
      "source": [
        "# Gathering the Information\n",
        "scaler = StandardScaler()\n",
        "scaled_data = scaler.fit_transform(data[['Vehicle_policy_tenure', 'period_of_vehicle_policyholder', 'population_density', 'Vehicle_displacement']])\n",
        "print(scaled_data)"
      ],
      "metadata": {
        "colab": {
          "base_uri": "https://localhost:8080/"
        },
        "id": "g5_oaHdqAGFD",
        "outputId": "2ca77119-2c2a-461b-9abc-c43400f715d0"
      },
      "execution_count": 10,
      "outputs": [
        {
          "output_type": "stream",
          "name": "stdout",
          "text": [
            "[[-0.64957317  0.96215781 -0.83505944 -1.36587528]\n",
            " [-0.73268227 -0.21937919 -0.56777665  0.13633869]\n",
            " [-0.68284527 -0.14061005 -0.56777665 -0.60540287]\n",
            " ...\n",
            " [-0.21931798 -0.92830138 -0.32661031  0.13633869]\n",
            " [ 1.35201798  1.43477261  0.90199543  0.13633869]\n",
            " [-1.2464447  -1.32214704 -0.56777665  1.24520486]]\n"
          ]
        }
      ]
    },
    {
      "cell_type": "code",
      "source": [
        "# Create features and target variable\n",
        "X = scaled_data[:, :-1]\n",
        "y = data['Target'].values"
      ],
      "metadata": {
        "id": "c_THD9lgDQtG"
      },
      "execution_count": 11,
      "outputs": []
    },
    {
      "cell_type": "code",
      "source": [
        "# Splitting the dataset into training and testing sets\n",
        "X_train, X_test, y_train, y_test = train_test_split(X, y, test_size=0.2, random_state=42)"
      ],
      "metadata": {
        "id": "--YFrMijDWlB"
      },
      "execution_count": 12,
      "outputs": []
    },
    {
      "cell_type": "code",
      "source": [
        "# Standardizing the features\n",
        "scaler = StandardScaler()\n",
        "X_train = scaler.fit_transform(X_train)\n",
        "X_test = scaler.transform(X_test)"
      ],
      "metadata": {
        "id": "fml9mtDBDZbD"
      },
      "execution_count": 13,
      "outputs": []
    },
    {
      "cell_type": "code",
      "source": [
        "# Logistic Regression\n",
        "log_reg = LogisticRegression()\n",
        "log_reg.fit(X_train, y_train)\n",
        "log_reg_pred = log_reg.predict(X_test)\n",
        "log_reg_accuracy = accuracy_score(y_test, log_reg_pred)\n",
        "print(log_reg_accuracy)"
      ],
      "metadata": {
        "id": "CtyOd7E8DcOQ",
        "colab": {
          "base_uri": "https://localhost:8080/"
        },
        "outputId": "86219a84-f71c-4d7d-db42-5f3bee082988"
      },
      "execution_count": 14,
      "outputs": [
        {
          "output_type": "stream",
          "name": "stdout",
          "text": [
            "0.7527198259311404\n"
          ]
        }
      ]
    },
    {
      "cell_type": "code",
      "source": [
        "# Decision Tree Classifier\n",
        "dt_classifier = DecisionTreeClassifier()\n",
        "dt_classifier.fit(X_train, y_train)\n",
        "dt_pred = dt_classifier.predict(X_test)\n",
        "dt_accuracy = accuracy_score(y_test, dt_pred)\n",
        "print(dt_accuracy)"
      ],
      "metadata": {
        "id": "5xRBkPd2DfFi",
        "colab": {
          "base_uri": "https://localhost:8080/"
        },
        "outputId": "9f5976a2-34f6-4aed-da3a-f83bf3001dd2"
      },
      "execution_count": 15,
      "outputs": [
        {
          "output_type": "stream",
          "name": "stdout",
          "text": [
            "0.669525150390375\n"
          ]
        }
      ]
    },
    {
      "cell_type": "code",
      "source": [
        "# Random Forest Classifier\n",
        "rf_classifier = RandomForestClassifier()\n",
        "rf_classifier.fit(X_train, y_train)\n",
        "rf_pred = rf_classifier.predict(X_test)\n",
        "rf_accuracy = accuracy_score(y_test, rf_pred)\n",
        "print(rf_accuracy)"
      ],
      "metadata": {
        "id": "owKxUgPxDhx-",
        "colab": {
          "base_uri": "https://localhost:8080/"
        },
        "outputId": "c7e02d8b-a9d8-4a0c-9e87-eeaf2e07f40f"
      },
      "execution_count": 16,
      "outputs": [
        {
          "output_type": "stream",
          "name": "stdout",
          "text": [
            "0.7003711762447203\n"
          ]
        }
      ]
    },
    {
      "cell_type": "code",
      "source": [
        "# K-Nearest Neighbors Classifier\n",
        "knn_classifier = KNeighborsClassifier()\n",
        "knn_classifier.fit(X_train, y_train)\n",
        "knn_pred = knn_classifier.predict(X_test)\n",
        "knn_accuracy = accuracy_score(y_test, knn_pred)\n",
        "print(knn_accuracy)"
      ],
      "metadata": {
        "id": "A41i5qMHDkjh",
        "colab": {
          "base_uri": "https://localhost:8080/"
        },
        "outputId": "a608773d-925a-4e16-ee8a-9b88819f95b7"
      },
      "execution_count": 17,
      "outputs": [
        {
          "output_type": "stream",
          "name": "stdout",
          "text": [
            "0.7195699475233585\n"
          ]
        }
      ]
    },
    {
      "cell_type": "code",
      "source": [
        "# ARIMA Model\n",
        "# Assuming you have time series data for ARIMA\n",
        "# Splitting data for ARIMA\n",
        "train_data = data[:int(0.8*(len(data)))]\n",
        "test_data = data[int(0.8*(len(data))):]"
      ],
      "metadata": {
        "id": "MF0f4xzfDoFQ"
      },
      "execution_count": 18,
      "outputs": []
    },
    {
      "cell_type": "code",
      "source": [
        "# LSTM Model\n",
        "# Assuming you have sequential data for LSTM\n",
        "# Reshape the data\n",
        "X_train_lstm = np.reshape(X_train, (X_train.shape[0], X_train.shape[1], 1))\n",
        "X_test_lstm = np.reshape(X_test, (X_test.shape[0], X_test.shape[1], 1))"
      ],
      "metadata": {
        "id": "QJqyU3s6D9Wd"
      },
      "execution_count": 19,
      "outputs": []
    },
    {
      "cell_type": "code",
      "source": [
        "# Build LSTM model\n",
        "lstm_model = Sequential()\n",
        "lstm_model.add(LSTM(units=50, return_sequences=True, input_shape=(X_train_lstm.shape[1], 1)))\n",
        "lstm_model.add(LSTM(units=50, return_sequences=False))\n",
        "lstm_model.add(Dense(units=1))"
      ],
      "metadata": {
        "id": "qoWZhNwpEARt"
      },
      "execution_count": 20,
      "outputs": []
    },
    {
      "cell_type": "code",
      "source": [
        "# Compile the model\n",
        "lstm_model.compile(optimizer='adam', loss='mean_squared_error')"
      ],
      "metadata": {
        "id": "BKTJO094EE22"
      },
      "execution_count": 21,
      "outputs": []
    },
    {
      "cell_type": "code",
      "source": [
        "# Train the model\n",
        "lstm_model.fit(X_train_lstm, y_train, epochs=100, batch_size=32)"
      ],
      "metadata": {
        "id": "Gvx7fx1sEHov",
        "colab": {
          "base_uri": "https://localhost:8080/"
        },
        "outputId": "2f39f9cc-e50d-4986-f0b0-8170c84224a5"
      },
      "execution_count": 23,
      "outputs": [
        {
          "output_type": "stream",
          "name": "stdout",
          "text": [
            "Epoch 1/100\n",
            "977/977 [==============================] - 7s 7ms/step - loss: 0.1654\n",
            "Epoch 2/100\n",
            "977/977 [==============================] - 6s 6ms/step - loss: 0.1654\n",
            "Epoch 3/100\n",
            "977/977 [==============================] - 7s 7ms/step - loss: 0.1652\n",
            "Epoch 4/100\n",
            "977/977 [==============================] - 6s 6ms/step - loss: 0.1653\n",
            "Epoch 5/100\n",
            "977/977 [==============================] - 7s 7ms/step - loss: 0.1654\n",
            "Epoch 6/100\n",
            "977/977 [==============================] - 6s 6ms/step - loss: 0.1652\n",
            "Epoch 7/100\n",
            "977/977 [==============================] - 7s 7ms/step - loss: 0.1652\n",
            "Epoch 8/100\n",
            "977/977 [==============================] - 6s 6ms/step - loss: 0.1652\n",
            "Epoch 9/100\n",
            "977/977 [==============================] - 7s 7ms/step - loss: 0.1652\n",
            "Epoch 10/100\n",
            "977/977 [==============================] - 6s 6ms/step - loss: 0.1651\n",
            "Epoch 11/100\n",
            "977/977 [==============================] - 7s 7ms/step - loss: 0.1653\n",
            "Epoch 12/100\n",
            "977/977 [==============================] - 6s 6ms/step - loss: 0.1652\n",
            "Epoch 13/100\n",
            "977/977 [==============================] - 7s 7ms/step - loss: 0.1653\n",
            "Epoch 14/100\n",
            "977/977 [==============================] - 6s 6ms/step - loss: 0.1652\n",
            "Epoch 15/100\n",
            "977/977 [==============================] - 7s 7ms/step - loss: 0.1652\n",
            "Epoch 16/100\n",
            "977/977 [==============================] - 6s 6ms/step - loss: 0.1652\n",
            "Epoch 17/100\n",
            "977/977 [==============================] - 7s 7ms/step - loss: 0.1653\n",
            "Epoch 18/100\n",
            "977/977 [==============================] - 6s 6ms/step - loss: 0.1652\n",
            "Epoch 19/100\n",
            "977/977 [==============================] - 7s 7ms/step - loss: 0.1653\n",
            "Epoch 20/100\n",
            "977/977 [==============================] - 6s 6ms/step - loss: 0.1651\n",
            "Epoch 21/100\n",
            "977/977 [==============================] - 7s 7ms/step - loss: 0.1652\n",
            "Epoch 22/100\n",
            "977/977 [==============================] - 6s 6ms/step - loss: 0.1652\n",
            "Epoch 23/100\n",
            "977/977 [==============================] - 7s 7ms/step - loss: 0.1652\n",
            "Epoch 24/100\n",
            "977/977 [==============================] - 6s 6ms/step - loss: 0.1651\n",
            "Epoch 25/100\n",
            "977/977 [==============================] - 7s 7ms/step - loss: 0.1652\n",
            "Epoch 26/100\n",
            "977/977 [==============================] - 6s 6ms/step - loss: 0.1651\n",
            "Epoch 27/100\n",
            "977/977 [==============================] - 7s 7ms/step - loss: 0.1652\n",
            "Epoch 28/100\n",
            "977/977 [==============================] - 6s 6ms/step - loss: 0.1652\n",
            "Epoch 29/100\n",
            "977/977 [==============================] - 7s 7ms/step - loss: 0.1651\n",
            "Epoch 30/100\n",
            "977/977 [==============================] - 6s 6ms/step - loss: 0.1651\n",
            "Epoch 31/100\n",
            "977/977 [==============================] - 7s 7ms/step - loss: 0.1652\n",
            "Epoch 32/100\n",
            "977/977 [==============================] - 6s 6ms/step - loss: 0.1651\n",
            "Epoch 33/100\n",
            "977/977 [==============================] - 7s 7ms/step - loss: 0.1650\n",
            "Epoch 34/100\n",
            "977/977 [==============================] - 6s 6ms/step - loss: 0.1651\n",
            "Epoch 35/100\n",
            "977/977 [==============================] - 7s 7ms/step - loss: 0.1651\n",
            "Epoch 36/100\n",
            "977/977 [==============================] - 6s 6ms/step - loss: 0.1651\n",
            "Epoch 37/100\n",
            "977/977 [==============================] - 7s 7ms/step - loss: 0.1650\n",
            "Epoch 38/100\n",
            "977/977 [==============================] - 6s 6ms/step - loss: 0.1652\n",
            "Epoch 39/100\n",
            "977/977 [==============================] - 7s 7ms/step - loss: 0.1651\n",
            "Epoch 40/100\n",
            "977/977 [==============================] - 6s 6ms/step - loss: 0.1651\n",
            "Epoch 41/100\n",
            "977/977 [==============================] - 7s 7ms/step - loss: 0.1650\n",
            "Epoch 42/100\n",
            "977/977 [==============================] - 6s 6ms/step - loss: 0.1650\n",
            "Epoch 43/100\n",
            "977/977 [==============================] - 7s 7ms/step - loss: 0.1651\n",
            "Epoch 44/100\n",
            "977/977 [==============================] - 6s 6ms/step - loss: 0.1650\n",
            "Epoch 45/100\n",
            "977/977 [==============================] - 7s 7ms/step - loss: 0.1650\n",
            "Epoch 46/100\n",
            "977/977 [==============================] - 6s 6ms/step - loss: 0.1650\n",
            "Epoch 47/100\n",
            "977/977 [==============================] - 7s 7ms/step - loss: 0.1651\n",
            "Epoch 48/100\n",
            "977/977 [==============================] - 6s 6ms/step - loss: 0.1650\n",
            "Epoch 49/100\n",
            "977/977 [==============================] - 7s 7ms/step - loss: 0.1651\n",
            "Epoch 50/100\n",
            "977/977 [==============================] - 6s 6ms/step - loss: 0.1651\n",
            "Epoch 51/100\n",
            "977/977 [==============================] - 7s 7ms/step - loss: 0.1650\n",
            "Epoch 52/100\n",
            "977/977 [==============================] - 6s 6ms/step - loss: 0.1650\n",
            "Epoch 53/100\n",
            "977/977 [==============================] - 7s 7ms/step - loss: 0.1649\n",
            "Epoch 54/100\n",
            "977/977 [==============================] - 6s 6ms/step - loss: 0.1650\n",
            "Epoch 55/100\n",
            "977/977 [==============================] - 7s 7ms/step - loss: 0.1649\n",
            "Epoch 56/100\n",
            "977/977 [==============================] - 6s 6ms/step - loss: 0.1650\n",
            "Epoch 57/100\n",
            "977/977 [==============================] - 7s 7ms/step - loss: 0.1649\n",
            "Epoch 58/100\n",
            "977/977 [==============================] - 6s 6ms/step - loss: 0.1649\n",
            "Epoch 59/100\n",
            "977/977 [==============================] - 7s 7ms/step - loss: 0.1650\n",
            "Epoch 60/100\n",
            "977/977 [==============================] - 6s 6ms/step - loss: 0.1648\n",
            "Epoch 61/100\n",
            "977/977 [==============================] - 7s 7ms/step - loss: 0.1649\n",
            "Epoch 62/100\n",
            "977/977 [==============================] - 6s 6ms/step - loss: 0.1648\n",
            "Epoch 63/100\n",
            "977/977 [==============================] - 7s 7ms/step - loss: 0.1648\n",
            "Epoch 64/100\n",
            "977/977 [==============================] - 6s 6ms/step - loss: 0.1649\n",
            "Epoch 65/100\n",
            "977/977 [==============================] - 7s 7ms/step - loss: 0.1647\n",
            "Epoch 66/100\n",
            "977/977 [==============================] - 6s 6ms/step - loss: 0.1649\n",
            "Epoch 67/100\n",
            "977/977 [==============================] - 7s 7ms/step - loss: 0.1648\n",
            "Epoch 68/100\n",
            "977/977 [==============================] - 6s 6ms/step - loss: 0.1647\n",
            "Epoch 69/100\n",
            "977/977 [==============================] - 7s 7ms/step - loss: 0.1648\n",
            "Epoch 70/100\n",
            "977/977 [==============================] - 6s 6ms/step - loss: 0.1648\n",
            "Epoch 71/100\n",
            "977/977 [==============================] - 7s 7ms/step - loss: 0.1649\n",
            "Epoch 72/100\n",
            "977/977 [==============================] - 6s 6ms/step - loss: 0.1647\n",
            "Epoch 73/100\n",
            "977/977 [==============================] - 7s 7ms/step - loss: 0.1647\n",
            "Epoch 74/100\n",
            "977/977 [==============================] - 6s 6ms/step - loss: 0.1648\n",
            "Epoch 75/100\n",
            "977/977 [==============================] - 7s 7ms/step - loss: 0.1648\n",
            "Epoch 76/100\n",
            "977/977 [==============================] - 6s 6ms/step - loss: 0.1647\n",
            "Epoch 77/100\n",
            "977/977 [==============================] - 7s 7ms/step - loss: 0.1647\n",
            "Epoch 78/100\n",
            "977/977 [==============================] - 6s 6ms/step - loss: 0.1647\n",
            "Epoch 79/100\n",
            "977/977 [==============================] - 7s 7ms/step - loss: 0.1646\n",
            "Epoch 80/100\n",
            "977/977 [==============================] - 6s 6ms/step - loss: 0.1647\n",
            "Epoch 81/100\n",
            "977/977 [==============================] - 7s 7ms/step - loss: 0.1647\n",
            "Epoch 82/100\n",
            "977/977 [==============================] - 6s 6ms/step - loss: 0.1646\n",
            "Epoch 83/100\n",
            "977/977 [==============================] - 7s 7ms/step - loss: 0.1647\n",
            "Epoch 84/100\n",
            "977/977 [==============================] - 6s 6ms/step - loss: 0.1647\n",
            "Epoch 85/100\n",
            "977/977 [==============================] - 7s 7ms/step - loss: 0.1646\n",
            "Epoch 86/100\n",
            "977/977 [==============================] - 6s 6ms/step - loss: 0.1646\n",
            "Epoch 87/100\n",
            "977/977 [==============================] - 7s 7ms/step - loss: 0.1646\n",
            "Epoch 88/100\n",
            "977/977 [==============================] - 6s 6ms/step - loss: 0.1646\n",
            "Epoch 89/100\n",
            "977/977 [==============================] - 7s 7ms/step - loss: 0.1646\n",
            "Epoch 90/100\n",
            "977/977 [==============================] - 6s 6ms/step - loss: 0.1646\n",
            "Epoch 91/100\n",
            "977/977 [==============================] - 7s 7ms/step - loss: 0.1646\n",
            "Epoch 92/100\n",
            "977/977 [==============================] - 6s 6ms/step - loss: 0.1646\n",
            "Epoch 93/100\n",
            "977/977 [==============================] - 7s 7ms/step - loss: 0.1646\n",
            "Epoch 94/100\n",
            "977/977 [==============================] - 6s 6ms/step - loss: 0.1645\n",
            "Epoch 95/100\n",
            "977/977 [==============================] - 7s 7ms/step - loss: 0.1646\n",
            "Epoch 96/100\n",
            "977/977 [==============================] - 6s 6ms/step - loss: 0.1645\n",
            "Epoch 97/100\n",
            "977/977 [==============================] - 7s 7ms/step - loss: 0.1645\n",
            "Epoch 98/100\n",
            "977/977 [==============================] - 6s 6ms/step - loss: 0.1645\n",
            "Epoch 99/100\n",
            "977/977 [==============================] - 7s 7ms/step - loss: 0.1645\n",
            "Epoch 100/100\n",
            "977/977 [==============================] - 6s 6ms/step - loss: 0.1645\n"
          ]
        },
        {
          "output_type": "execute_result",
          "data": {
            "text/plain": [
              "<keras.src.callbacks.History at 0x7bb40bb5d060>"
            ]
          },
          "metadata": {},
          "execution_count": 23
        }
      ]
    },
    {
      "cell_type": "code",
      "source": [
        "# Predictions\n",
        "lstm_predictions = lstm_model.predict(X_test_lstm)"
      ],
      "metadata": {
        "id": "zUn4HkBwEKf7",
        "colab": {
          "base_uri": "https://localhost:8080/"
        },
        "outputId": "d1d6d7a1-8988-4d96-8e1a-ff5cb2bf0927"
      },
      "execution_count": 24,
      "outputs": [
        {
          "output_type": "stream",
          "name": "stdout",
          "text": [
            "245/245 [==============================] - 1s 2ms/step\n"
          ]
        }
      ]
    },
    {
      "cell_type": "code",
      "source": [
        "# Visualization (assuming you want to visualize predictions)\n",
        "plt.plot(test_data.index, test_data['Vehicle_policy_tenure'], label='Actual')\n",
        "plt.plot(test_data.index, lstm_predictions, label='LSTM')\n",
        "plt.legend()\n",
        "plt.show()"
      ],
      "metadata": {
        "id": "3dhVknW8ERKk",
        "colab": {
          "base_uri": "https://localhost:8080/",
          "height": 430
        },
        "outputId": "32540b2d-fde3-4605-e389-e75780f9e43a"
      },
      "execution_count": 26,
      "outputs": [
        {
          "output_type": "display_data",
          "data": {
            "text/plain": [
              "<Figure size 640x480 with 1 Axes>"
            ],
            "image/png": "[encoded data removed]"
          },
          "metadata": {}
        }
      ]
    },
    {
      "cell_type": "code",
      "source": [
        "# Visualization (assuming you want to visualize predictions)\n",
        "plt.plot(test_data.index, test_data['period_of_vehicle_policyholder'], label='Actual')\n",
        "plt.plot(test_data.index, lstm_predictions, label='LSTM')\n",
        "plt.legend()\n",
        "plt.show()"
      ],
      "metadata": {
        "colab": {
          "base_uri": "https://localhost:8080/",
          "height": 430
        },
        "id": "WRvsf8rwPhzg",
        "outputId": "7591c886-518c-435f-8316-a362fe48c3bd"
      },
      "execution_count": 28,
      "outputs": [
        {
          "output_type": "display_data",
          "data": {
            "text/plain": [
              "<Figure size 640x480 with 1 Axes>"
            ],
            "image/png": "[encoded data removed]"
          },
          "metadata": {}
        }
      ]
    },
    {
      "cell_type": "code",
      "source": [
        "# Visualization (assuming you want to visualize predictions)\n",
        "plt.plot(test_data.index, test_data['Vehicle_displacement'], label='Actual')\n",
        "plt.plot(test_data.index, lstm_predictions, label='LSTM')\n",
        "plt.legend()\n",
        "plt.show()"
      ],
      "metadata": {
        "colab": {
          "base_uri": "https://localhost:8080/",
          "height": 430
        },
        "id": "DzgPSE1NPq6T",
        "outputId": "613b360b-c176-4165-ea0e-994f7b040e6e"
      },
      "execution_count": 29,
      "outputs": [
        {
          "output_type": "display_data",
          "data": {
            "text/plain": [
              "<Figure size 640x480 with 1 Axes>"
            ],
            "image/png": "[encoded data removed]"
          },
          "metadata": {}
        }
      ]
    }
  ]
}